{
 "cells": [
  {
   "cell_type": "code",
   "execution_count": 1,
   "metadata": {},
   "outputs": [],
   "source": [
    "import multiprocessing\n",
    "import random\n",
    "import collections\n",
    "import time\n",
    "import math\n",
    "import pandas\n",
    "import matplotlib.pyplot"
   ]
  },
  {
   "cell_type": "code",
   "execution_count": 2,
   "metadata": {},
   "outputs": [],
   "source": [
    "%matplotlib inline"
   ]
  },
  {
   "cell_type": "code",
   "execution_count": null,
   "metadata": {},
   "outputs": [],
   "source": []
  },
  {
   "cell_type": "code",
   "execution_count": 3,
   "metadata": {},
   "outputs": [],
   "source": [
    "manager = multiprocessing.Manager()\n",
    "key_queue = multiprocessing.Queue()\n",
    "key_to_result = manager.dict()\n",
    "procs = []"
   ]
  },
  {
   "cell_type": "code",
   "execution_count": null,
   "metadata": {},
   "outputs": [],
   "source": []
  },
  {
   "cell_type": "code",
   "execution_count": null,
   "metadata": {},
   "outputs": [],
   "source": []
  },
  {
   "cell_type": "code",
   "execution_count": 4,
   "metadata": {},
   "outputs": [],
   "source": [
    "def f_basic(left_index, right_index, prices):\n",
    "    \"\"\"\n",
    "    Maximize the profit.\n",
    "    profit = prices[sell_index] - prices[buy_index]\n",
    "    max(profit)\n",
    "\n",
    "    Parameters\n",
    "    ----------\n",
    "    ?\n",
    "    \n",
    "    Returns\n",
    "    -------\n",
    "    low_index : int\n",
    "    low : float\n",
    "    high_index : int\n",
    "    high : float\n",
    "    buy_index : int\n",
    "    sell_index : int\n",
    "    max_gain : float\n",
    "    \"\"\"\n",
    "    low_index = None\n",
    "    low = None\n",
    "    high_index = None\n",
    "    high = None\n",
    "    buy_index = 0\n",
    "    sell_index = 0\n",
    "    max_gain = 0\n",
    "    if right_index - left_index <= 0:\n",
    "        result = (low_index, low, high_index, high, buy_index, sell_index, max_gain)\n",
    "        return result\n",
    "\n",
    "    low_index = left_index\n",
    "    low = prices[left_index]\n",
    "    high_index = left_index\n",
    "    high = prices[left_index]\n",
    "    buy_index = left_index\n",
    "    sell_index = left_index\n",
    "    for index in range(left_index, right_index+1):\n",
    "        price = prices[index]\n",
    "        if price < low:\n",
    "            low_index = index\n",
    "            low = price\n",
    "        if price > high:\n",
    "            high_index = index\n",
    "            high = price\n",
    "        gain = price - low\n",
    "        if gain > max_gain:\n",
    "            sell_index = index\n",
    "            buy_index = low_index\n",
    "            max_gain = gain\n",
    "\n",
    "    result = (low_index, low, high_index, high, buy_index, sell_index, max_gain)\n",
    "    return result"
   ]
  },
  {
   "cell_type": "code",
   "execution_count": 5,
   "metadata": {},
   "outputs": [],
   "source": [
    "def f(left_index, right_index, prices, l_r_chain):\n",
    "    \"\"\"\n",
    "    Maximize the profit.\n",
    "    profit = prices[sell_index] - prices[buy_index]\n",
    "    max(profit)\n",
    "\n",
    "    Parameters\n",
    "    ----------\n",
    "    left_index : int\n",
    "    right_index : int\n",
    "    prices : List[float]\n",
    "    l_r_chain : tuple\n",
    "        'L' or 'R', or None.\n",
    "\n",
    "    Returns\n",
    "    -------\n",
    "    result : tuple\n",
    "        low_index : int\n",
    "        low : float\n",
    "        high_index : int\n",
    "        high : float\n",
    "        buy_index : int\n",
    "        sell_index : int\n",
    "        max_gain : float\n",
    "    \"\"\"\n",
    "    low_index = None\n",
    "    low = None\n",
    "    high_index = None\n",
    "    high = None\n",
    "    buy_index = 0\n",
    "    sell_index = 0\n",
    "    max_gain = 0\n",
    "    if right_index - left_index <= 0:\n",
    "        return low_index, low, high_index, high, buy_index, sell_index, max_gain\n",
    "\n",
    "    low_index = left_index\n",
    "    low = prices[left_index]\n",
    "    high_index = left_index\n",
    "    high = prices[left_index]\n",
    "    buy_index = left_index\n",
    "    sell_index = left_index\n",
    "    for index in range(left_index, right_index+1):\n",
    "        price = prices[index]\n",
    "        if price < low:\n",
    "            low_index = index\n",
    "            low = price\n",
    "        if price > high:\n",
    "            high_index = index\n",
    "            high = price\n",
    "        gain = price - low\n",
    "        if gain > max_gain:\n",
    "            sell_index = index\n",
    "            buy_index = low_index\n",
    "            max_gain = gain\n",
    "\n",
    "    key = (left_index, right_index, tuple(l_r_chain))\n",
    "    result = (low_index, low, high_index, high, buy_index, sell_index, max_gain)\n",
    "    key_queue.put(key)\n",
    "    key_to_result[key] = result"
   ]
  },
  {
   "cell_type": "code",
   "execution_count": 6,
   "metadata": {},
   "outputs": [],
   "source": [
    "def combine():\n",
    "    while not key_queue.empty():\n",
    "        key = key_queue.get()\n",
    "        if key not in key_to_result.keys():\n",
    "            continue\n",
    "        \n",
    "        left_index, right_index, l_r_chain = key\n",
    "        result = key_to_result.pop(key)\n",
    "        if len(l_r_chain) == 0:\n",
    "            return result\n",
    "\n",
    "        left_or_right = l_r_chain[-1]\n",
    "        \n",
    "        other_keys = key_to_result.keys()\n",
    "        if left_or_right == 'L':\n",
    "            other_keys = \\\n",
    "                [i for i in other_keys\n",
    "                 if i[0] == right_index + 1]\n",
    "        elif left_or_right == 'R':\n",
    "            other_keys = \\\n",
    "                [i for i in other_keys\n",
    "                 if i[1] == left_index - 1]\n",
    "\n",
    "        if len(other_keys) == 1:\n",
    "            other_key = other_keys[0]\n",
    "            other_left_index, other_right_index, other_l_r_chain = other_key\n",
    "            other_result = key_to_result.pop(other_key)\n",
    "            if left_or_right == 'L':\n",
    "                right_index = other_right_index\n",
    "                result = _combine(result, other_result)\n",
    "            elif left_or_right == 'R':\n",
    "                left_index = other_left_index\n",
    "                result = _combine(other_result, result)\n",
    "        \n",
    "        key = (left_index, right_index, l_r_chain[:-1])\n",
    "        key_queue.put(key)\n",
    "        key_to_result[key] = result"
   ]
  },
  {
   "cell_type": "code",
   "execution_count": 7,
   "metadata": {},
   "outputs": [],
   "source": [
    "def _combine(result_1, result_2):\n",
    "    \"\"\"\n",
    "    Parameters\n",
    "    ----------\n",
    "    result_1 : tuple\n",
    "        This needs to be the left-side result.\n",
    "    result_2 : tuple\n",
    "        This needs to be the right-side result.\n",
    "\n",
    "    Returns\n",
    "    -------\n",
    "    result : tuple\n",
    "        low_index : int\n",
    "        low : float\n",
    "        high_index : int\n",
    "        high : float\n",
    "        buy_index : int\n",
    "        sell_index : int\n",
    "        max_gain : float\n",
    "    \"\"\"\n",
    "    low_index_1, low_1, \\\n",
    "        high_index_1, high_1, \\\n",
    "        buy_index_1, sell_index_1, max_gain_1 = result_1\n",
    "    low_index_2, low_2, \\\n",
    "        high_index_2, high_2, \\\n",
    "        buy_index_2, sell_index_2, max_gain_2 = result_2\n",
    "\n",
    "    if low_1 < low_2:\n",
    "        low_index = low_index_1\n",
    "        low = low_1\n",
    "    else:\n",
    "        low_index = low_index_2\n",
    "        low = low_2\n",
    "\n",
    "    if high_1 > high_2:\n",
    "        high_index = high_index_1\n",
    "        high = high_1\n",
    "    else:\n",
    "        high_index = high_index_2\n",
    "        high = high_2\n",
    "\n",
    "    if max_gain_1 > max_gain_2:\n",
    "        buy_index = buy_index_1\n",
    "        sell_index = sell_index_1\n",
    "        max_gain = max_gain_1\n",
    "    else:\n",
    "        buy_index = buy_index_2\n",
    "        sell_index = sell_index_2\n",
    "        max_gain = max_gain_2\n",
    "\n",
    "    if (high_2 - low_1) > max_gain:\n",
    "        buy_index = low_index_1\n",
    "        sell_index = high_index_2\n",
    "        max_gain = high_2 - low_1\n",
    "\n",
    "    if max_gain == 0:\n",
    "        buy_index = 0\n",
    "        sell_index = 0\n",
    "\n",
    "    result = (low_index, low, high_index, high, buy_index, sell_index, max_gain)\n",
    "    return result"
   ]
  },
  {
   "cell_type": "code",
   "execution_count": 8,
   "metadata": {},
   "outputs": [],
   "source": [
    "def _f2(left_index, right_index, prices, l_r_chain=None):\n",
    "    \"\"\"\n",
    "    Parameters\n",
    "    ----------\n",
    "    ?\n",
    "    prices : List[float]\n",
    "    l_r_chain : str\n",
    "        'L' or 'R', or None.\n",
    "\n",
    "    Returns\n",
    "    -------\n",
    "    result : Tuple\n",
    "        low_index, low, high_index, high, buy_index, sell_index, max_gain\n",
    "    \"\"\"\n",
    "    if l_r_chain is None:\n",
    "        l_r_chain = tuple()\n",
    "\n",
    "    threshold = length//multiprocessing.cpu_count()\n",
    "    curr_length = (right_index - left_index) + 1\n",
    "    if curr_length > threshold:\n",
    "        split = curr_length//2\n",
    "        left_index_1 = left_index\n",
    "        right_index_1 = left_index_1 + split\n",
    "        left_index_2 = right_index_1 + 1\n",
    "        right_index_2 = right_index\n",
    "        _f2(left_index_1, right_index_1, prices, l_r_chain + ('L',))\n",
    "        _f2(left_index_2, right_index_2, prices, l_r_chain + ('R',))\n",
    "    else:\n",
    "        proc = multiprocessing.Process(target=f, args=(left_index, right_index, prices, l_r_chain))\n",
    "        procs.append(proc)\n",
    "        proc.start()"
   ]
  },
  {
   "cell_type": "code",
   "execution_count": 9,
   "metadata": {},
   "outputs": [],
   "source": [
    "def f2(prices):\n",
    "    left_index = 0\n",
    "    right_index = len(prices) - 1\n",
    "\n",
    "    _f2(left_index, right_index, prices)    \n",
    "    for proc in procs:\n",
    "        proc.join()\n",
    "\n",
    "    result = combine()\n",
    "    return result"
   ]
  },
  {
   "cell_type": "code",
   "execution_count": null,
   "metadata": {},
   "outputs": [],
   "source": []
  },
  {
   "cell_type": "code",
   "execution_count": null,
   "metadata": {},
   "outputs": [],
   "source": []
  },
  {
   "cell_type": "code",
   "execution_count": null,
   "metadata": {},
   "outputs": [],
   "source": []
  },
  {
   "cell_type": "code",
   "execution_count": 10,
   "metadata": {},
   "outputs": [],
   "source": [
    "lengths = [10000, 100000, 1000000, 10000000, 20000000, 50000000]"
   ]
  },
  {
   "cell_type": "code",
   "execution_count": 11,
   "metadata": {},
   "outputs": [],
   "source": [
    "def generate_prices(length):\n",
    "    prices = range(length)\n",
    "    random.shuffle(prices)\n",
    "    return prices"
   ]
  },
  {
   "cell_type": "code",
   "execution_count": 12,
   "metadata": {},
   "outputs": [],
   "source": [
    "def run_f_basic(prices):\n",
    "    start_time = time.time()\n",
    "    low_index, low, high_index, high, buy_index, sell_index, max_gain = f_basic(0, len(prices)-1, prices)\n",
    "    end_time = time.time()\n",
    "    time_elapsed = end_time - start_time\n",
    "    return buy_index, sell_index, time_elapsed"
   ]
  },
  {
   "cell_type": "code",
   "execution_count": 13,
   "metadata": {},
   "outputs": [],
   "source": [
    "def run_f2(prices):\n",
    "    global key_queue, key_to_result, procs\n",
    "    key_queue = multiprocessing.Queue()\n",
    "    key_to_result = manager.dict()\n",
    "    procs = []\n",
    "\n",
    "    start_time = time.time()\n",
    "    low_index, low, high_index, high, buy_index, sell_index, max_gain = f2(prices)\n",
    "    end_time = time.time()\n",
    "    time_elapsed = end_time - start_time\n",
    "    return buy_index, sell_index, time_elapsed"
   ]
  },
  {
   "cell_type": "code",
   "execution_count": 14,
   "metadata": {},
   "outputs": [
    {
     "name": "stdout",
     "output_type": "stream",
     "text": [
      "(3242, 8914, 0.00510096549987793)\n",
      "(3242, 8914, 0.060827016830444336)\n",
      "\n",
      "\n",
      "(31069, 64586, 0.040472984313964844)\n",
      "(31069, 64586, 0.07684111595153809)\n",
      "\n",
      "\n",
      "(13491, 842000, 0.4700310230255127)\n",
      "(13491, 842000, 0.3188149929046631)\n",
      "\n",
      "\n",
      "(2293762, 2736499, 5.276416778564453)\n",
      "(2293762, 2736499, 2.8951311111450195)\n",
      "\n",
      "\n",
      "(10830186, 16112050, 12.848865985870361)\n",
      "(10830186, 16112050, 7.491134881973267)\n",
      "\n",
      "\n",
      "(2965145, 19882293, 32.122589111328125)\n",
      "(2965145, 19882293, 20.83732509613037)\n",
      "\n",
      "\n"
     ]
    }
   ],
   "source": [
    "times_elapsed = []\n",
    "for length in lengths:\n",
    "    prices = generate_prices(length)\n",
    "    \n",
    "    result_1 = run_f_basic(prices)\n",
    "    print(result_1)\n",
    "    result_2 = run_f2(prices)\n",
    "    print(result_2)\n",
    "    \n",
    "    assert result_1[:2] == result_2[:2]\n",
    "    times_elapsed.append((result_1[-1], result_2[-1]))\n",
    "    print('\\n')"
   ]
  },
  {
   "cell_type": "code",
   "execution_count": null,
   "metadata": {},
   "outputs": [],
   "source": []
  },
  {
   "cell_type": "code",
   "execution_count": 15,
   "metadata": {},
   "outputs": [],
   "source": [
    "times_elapsed = pandas.DataFrame(times_elapsed, columns=['time_elapsed_1', 'time_elapsed_2'])"
   ]
  },
  {
   "cell_type": "code",
   "execution_count": 16,
   "metadata": {},
   "outputs": [
    {
     "data": {
      "text/plain": [
       "<matplotlib.axes._subplots.AxesSubplot at 0x1191af4d0>"
      ]
     },
     "execution_count": 16,
     "metadata": {},
     "output_type": "execute_result"
    },
    {
     "data": {
      "image/png": "[encoded data removed]",
      "text/plain": [
       "<Figure size 864x576 with 1 Axes>"
      ]
     },
     "metadata": {},
     "output_type": "display_data"
    }
   ],
   "source": [
    "times_elapsed.plot(figsize=(12, 8))"
   ]
  },
  {
   "cell_type": "code",
   "execution_count": null,
   "metadata": {},
   "outputs": [],
   "source": []
  },
  {
   "cell_type": "code",
   "execution_count": null,
   "metadata": {},
   "outputs": [],
   "source": []
  }
 ],
 "metadata": {
  "kernelspec": {
   "display_name": "Python 2",
   "language": "python",
   "name": "python2"
  },
  "language_info": {
   "codemirror_mode": {
    "name": "ipython",
    "version": 2
   },
   "file_extension": ".py",
   "mimetype": "text/x-python",
   "name": "python",
   "nbconvert_exporter": "python",
   "pygments_lexer": "ipython2",
   "version": "2.7.15"
  }
 },
 "nbformat": 4,
 "nbformat_minor": 2
}
